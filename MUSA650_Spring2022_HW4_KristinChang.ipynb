{
 "cells": [
  {
   "cell_type": "markdown",
   "metadata": {},
   "source": [
    " ## HW4 - EuroSAT Land Use and Land Cover Classification using Deep Learning\n",
    " \n",
    "In this homework your task is to implement deep learning models to solve a typical problem in satellite imaging  using a benchmark dataset. The homework was designed to make you work on increasingly more complex models. We hope that the homework will be very helpful to improve your skills and knowledge in deep learning!\n"
   ]
  },
  {
   "cell_type": "markdown",
   "metadata": {},
   "source": [
    "### S1:\n",
    "\n",
    "- Visit the EuroSAT data description page and download the data: https://github.com/phelber/eurosat\n",
    "\n",
    "- Split the data into training (50%) and testing sets (50%), stratified on class labels (equal percentage of each class type in train and test sets).\n",
    "\n",
    "- Convert each RGB image to grayscale and flatten the images into a data matrix (n x p: n = #samples, p = #pixels in each image)\n"
   ]
  },
  {
   "cell_type": "code",
   "execution_count": 2,
   "metadata": {},
   "outputs": [],
   "source": [
    "import numpy as np\n",
    "import os\n",
    "import shutil\n",
    "import matplotlib.pyplot as plt"
   ]
  },
  {
   "cell_type": "code",
   "execution_count": 3,
   "metadata": {},
   "outputs": [
    {
     "data": {
      "text/plain": [
       "['AnnualCrop',\n",
       " 'Forest',\n",
       " 'HerbaceousVegetation',\n",
       " 'Highway',\n",
       " 'Industrial',\n",
       " 'Pasture',\n",
       " 'PermanentCrop',\n",
       " 'Residential',\n",
       " 'River',\n",
       " 'SeaLake']"
      ]
     },
     "execution_count": 3,
     "metadata": {},
     "output_type": "execute_result"
    }
   ],
   "source": [
    "#load data from local path\n",
    "dataset = \"C:/Users/kchan/Desktop/Spring2022/RemoteSensing/HW/HW4/EuroSAT/2750\"\n",
    "\n",
    "#create array of unique labels\n",
    "labelNames = os.listdir(dataset)\n",
    "labelNames"
   ]
  },
  {
   "cell_type": "code",
   "execution_count": 4,
   "metadata": {},
   "outputs": [
    {
     "data": {
      "text/plain": [
       "10"
      ]
     },
     "execution_count": 4,
     "metadata": {},
     "output_type": "execute_result"
    }
   ],
   "source": [
    "\n",
    "#number of labels\n",
    "numClass = len(labelNames)\n",
    "numClass"
   ]
  },
  {
   "cell_type": "code",
   "execution_count": 5,
   "metadata": {},
   "outputs": [
    {
     "data": {
      "text/plain": [
       "array([3000., 3000., 3000., 2500., 2500., 2000., 2500., 3000., 2500.,\n",
       "       3000.])"
      ]
     },
     "execution_count": 5,
     "metadata": {},
     "output_type": "execute_result"
    }
   ],
   "source": [
    "#number of images per class\n",
    "lenClass = np.zeros(numClass)\n",
    "for i in np.arange(0, numClass):\n",
    "    lenClass[i] = len(os.listdir(dataset + '/' + labelNames[i]))\n",
    "\n",
    "lenClass"
   ]
  },
  {
   "cell_type": "code",
   "execution_count": 6,
   "metadata": {},
   "outputs": [
    {
     "data": {
      "text/plain": [
       "27000"
      ]
     },
     "execution_count": 6,
     "metadata": {},
     "output_type": "execute_result"
    }
   ],
   "source": [
    "#total number of images\n",
    "numImgs = int(lenClass.sum())\n",
    "numImgs"
   ]
  },
  {
   "cell_type": "code",
   "execution_count": 7,
   "metadata": {},
   "outputs": [
    {
     "data": {
      "text/plain": [
       "<matplotlib.image.AxesImage at 0x18117e038b0>"
      ]
     },
     "execution_count": 7,
     "metadata": {},
     "output_type": "execute_result"
    },
    {
     "data": {
      "image/png": "[encoded data removed]",
      "text/plain": [
       "<Figure size 432x288 with 1 Axes>"
      ]
     },
     "metadata": {
      "needs_background": "light"
     },
     "output_type": "display_data"
    }
   ],
   "source": [
    "#plot one image\n",
    "import PIL\n",
    "from PIL import Image, ImageOps\n",
    "\n",
    "imgSel = dataset + '/' + labelNames[i] + '/' + os.listdir(dataset + '/' + labelNames[i])[9]\n",
    "og_image = Image.open(imgSel)\n",
    "img_gray = ImageOps.grayscale(og_image)\n",
    "plt.imshow(img_gray, cmap='gray')\n",
    "#img_gray.save('test_gray.jpg')"
   ]
  },
  {
   "cell_type": "code",
   "execution_count": 8,
   "metadata": {},
   "outputs": [
    {
     "data": {
      "text/plain": [
       "(64, 64)"
      ]
     },
     "execution_count": 8,
     "metadata": {},
     "output_type": "execute_result"
    }
   ],
   "source": [
    "#shape of this image\n",
    "np.asarray(img_gray).shape"
   ]
  },
  {
   "cell_type": "code",
   "execution_count": 9,
   "metadata": {},
   "outputs": [
    {
     "data": {
      "text/plain": [
       "4096"
      ]
     },
     "execution_count": 9,
     "metadata": {},
     "output_type": "execute_result"
    }
   ],
   "source": [
    "#total number of pixels per image\n",
    "\n",
    "numPixels = np.prod(np.asarray(img_gray).shape)\n",
    "numPixels"
   ]
  },
  {
   "cell_type": "code",
   "execution_count": 10,
   "metadata": {},
   "outputs": [],
   "source": [
    "#extract color channels from each image and flatten to a matrix\n",
    "X = np.zeros([numImgs, numPixels])\n",
    "\n",
    "#create labels matrix \n",
    "y = np.zeros(numImgs)"
   ]
  },
  {
   "cell_type": "code",
   "execution_count": 11,
   "metadata": {},
   "outputs": [],
   "source": [
    "from skimage import color\n",
    "from skimage import io\n",
    "\n",
    "#load rest of images\n",
    "imgInd = 0\n",
    "for i in np.arange(0, numClass):\n",
    "  className = labelNames[i]\n",
    "  for imgName in os.listdir(dataset + '/' + className):\n",
    "    img = PIL.Image.open(dataset + '/' + className + '/' + imgName, 'r')\n",
    "    img = color.rgb2gray(io.imread('EuroSAT/2750/' + className + '/' + imgName))\n",
    "    imgVec = np.asarray(img).flatten()\n",
    "    X[imgInd,:] = imgVec\n",
    "    y[imgInd] = i\n",
    "    imgInd = imgInd + 1\n",
    "    #print('Read img class ' + className + ' no ' + str(imgInd))"
   ]
  },
  {
   "cell_type": "code",
   "execution_count": 11,
   "metadata": {},
   "outputs": [
    {
     "data": {
      "text/plain": [
       "(27000, 4096)"
      ]
     },
     "execution_count": 11,
     "metadata": {},
     "output_type": "execute_result"
    }
   ],
   "source": [
    "#shape of X before splitting\n",
    "X.shape"
   ]
  },
  {
   "cell_type": "code",
   "execution_count": 12,
   "metadata": {},
   "outputs": [
    {
     "data": {
      "text/plain": [
       "(27000,)"
      ]
     },
     "execution_count": 12,
     "metadata": {},
     "output_type": "execute_result"
    }
   ],
   "source": [
    "#shape of y before splitting\n",
    "y.shape"
   ]
  },
  {
   "cell_type": "code",
   "execution_count": 13,
   "metadata": {},
   "outputs": [],
   "source": [
    "#split data 50% train 50% test with equal distributions of labels\n",
    "from sklearn.model_selection import train_test_split\n",
    "X_train, X_test, y_train, y_test = train_test_split(X,y,test_size=0.5, random_state=42, stratify=y)"
   ]
  },
  {
   "cell_type": "markdown",
   "metadata": {},
   "source": [
    "### S2:\n",
    "\n",
    "- Implement a first deep learning model (M.1) using a fully connected network with a single fully connected layer (i.e: input layer + fully connected layer as the output layer). \n",
    "\n",
    "Q2.1: Calculate classification accuracy on the test data.  "
   ]
  },
  {
   "cell_type": "code",
   "execution_count": 14,
   "metadata": {},
   "outputs": [],
   "source": [
    "import tensorflow as tf \n",
    "import keras\n",
    "from keras.models import Sequential\n",
    "from keras.layers import Dense, Dropout, Activation, Flatten\n",
    "from keras.layers import Conv2D, MaxPooling2D\n",
    "from keras import backend as K"
   ]
  },
  {
   "cell_type": "code",
   "execution_count": 15,
   "metadata": {},
   "outputs": [],
   "source": [
    "#set global parameters\n",
    "batch_size = 64\n",
    "num_classes = 10\n",
    "epochs = 12\n",
    "\n",
    "# input image dimensions\n",
    "img_rows, img_cols = 64, 64"
   ]
  },
  {
   "cell_type": "code",
   "execution_count": 16,
   "metadata": {},
   "outputs": [],
   "source": [
    "# convert class vectors to binary class matrices\n",
    "y_train = keras.utils.np_utils.to_categorical(y_train, num_classes)\n",
    "y_test = keras.utils.np_utils.to_categorical(y_test, num_classes)"
   ]
  },
  {
   "cell_type": "code",
   "execution_count": 17,
   "metadata": {},
   "outputs": [],
   "source": [
    "#create first simple CNN model\n",
    "m1 = Sequential()\n",
    "m1.add(Dense(num_classes, activation='softmax', input_shape=(4096,)))"
   ]
  },
  {
   "cell_type": "code",
   "execution_count": 18,
   "metadata": {},
   "outputs": [],
   "source": [
    "m1.compile(loss=keras.losses.categorical_crossentropy,\n",
    "              optimizer=tf.keras.optimizers.Adadelta(),\n",
    "              metrics=['accuracy'])"
   ]
  },
  {
   "cell_type": "code",
   "execution_count": 19,
   "metadata": {},
   "outputs": [
    {
     "name": "stdout",
     "output_type": "stream",
     "text": [
      "Epoch 1/12\n",
      "211/211 [==============================] - 1s 4ms/step - loss: 2.3475 - accuracy: 0.1167 - val_loss: 2.3158 - val_accuracy: 0.1306\n",
      "Epoch 2/12\n",
      "211/211 [==============================] - 1s 3ms/step - loss: 2.3016 - accuracy: 0.1267 - val_loss: 2.2911 - val_accuracy: 0.0995\n",
      "Epoch 3/12\n",
      "211/211 [==============================] - 1s 3ms/step - loss: 2.2870 - accuracy: 0.1073 - val_loss: 2.2834 - val_accuracy: 0.1080\n",
      "Epoch 4/12\n",
      "211/211 [==============================] - 1s 3ms/step - loss: 2.2826 - accuracy: 0.1083 - val_loss: 2.2812 - val_accuracy: 0.1098\n",
      "Epoch 5/12\n",
      "211/211 [==============================] - 1s 3ms/step - loss: 2.2814 - accuracy: 0.1082 - val_loss: 2.2805 - val_accuracy: 0.1104\n",
      "Epoch 6/12\n",
      "211/211 [==============================] - 1s 3ms/step - loss: 2.2808 - accuracy: 0.1092 - val_loss: 2.2801 - val_accuracy: 0.1113\n",
      "Epoch 7/12\n",
      "211/211 [==============================] - 1s 4ms/step - loss: 2.2803 - accuracy: 0.1103 - val_loss: 2.2796 - val_accuracy: 0.1122\n",
      "Epoch 8/12\n",
      "211/211 [==============================] - 1s 4ms/step - loss: 2.2799 - accuracy: 0.1110 - val_loss: 2.2792 - val_accuracy: 0.1127\n",
      "Epoch 9/12\n",
      "211/211 [==============================] - 1s 4ms/step - loss: 2.2793 - accuracy: 0.1119 - val_loss: 2.2787 - val_accuracy: 0.1130\n",
      "Epoch 10/12\n",
      "211/211 [==============================] - 1s 4ms/step - loss: 2.2788 - accuracy: 0.1121 - val_loss: 2.2783 - val_accuracy: 0.1130\n",
      "Epoch 11/12\n",
      "211/211 [==============================] - 1s 4ms/step - loss: 2.2784 - accuracy: 0.1122 - val_loss: 2.2778 - val_accuracy: 0.1139\n",
      "Epoch 12/12\n",
      "211/211 [==============================] - 1s 3ms/step - loss: 2.2779 - accuracy: 0.1128 - val_loss: 2.2774 - val_accuracy: 0.1150\n"
     ]
    },
    {
     "data": {
      "text/plain": [
       "<keras.callbacks.History at 0x1a9a0baafd0>"
      ]
     },
     "execution_count": 19,
     "metadata": {},
     "output_type": "execute_result"
    }
   ],
   "source": [
    "m1.fit(X_train, y_train,\n",
    "          batch_size=batch_size,\n",
    "          epochs=epochs,\n",
    "          verbose=1,\n",
    "          validation_data=(X_test, y_test))"
   ]
  },
  {
   "cell_type": "markdown",
   "metadata": {},
   "source": [
    "#### Q2.1 Classification Accuracy using the test set: "
   ]
  },
  {
   "cell_type": "code",
   "execution_count": 20,
   "metadata": {},
   "outputs": [
    {
     "name": "stdout",
     "output_type": "stream",
     "text": [
      "Test loss: 2.2773990631103516\n",
      "Test accuracy: 0.11496296525001526\n"
     ]
    }
   ],
   "source": [
    "score = m1.evaluate(X_test, y_test, verbose=0)\n",
    "print('Test loss:', score[0])\n",
    "print('Test accuracy:', score[1])"
   ]
  },
  {
   "cell_type": "markdown",
   "metadata": {},
   "source": [
    "### S3:\n",
    "\n",
    "- Implement a second deep learning model (M.2) adding an additional fully connected hidden layer (with an arbitrary number of nodes) to the previous model. \n",
    "\n",
    "Q3.1: Calculate classification accuracy on the test data.  "
   ]
  },
  {
   "cell_type": "code",
   "execution_count": 21,
   "metadata": {},
   "outputs": [
    {
     "name": "stdout",
     "output_type": "stream",
     "text": [
      "Model: \"sequential_1\"\n",
      "_________________________________________________________________\n",
      " Layer (type)                Output Shape              Param #   \n",
      "=================================================================\n",
      " dense_1 (Dense)             (None, 1050)              4301850   \n",
      "                                                                 \n",
      " dense_2 (Dense)             (None, 10)                10510     \n",
      "                                                                 \n",
      "=================================================================\n",
      "Total params: 4,312,360\n",
      "Trainable params: 4,312,360\n",
      "Non-trainable params: 0\n",
      "_________________________________________________________________\n"
     ]
    }
   ],
   "source": [
    "m2 = Sequential()\n",
    "m2.add(Dense(1050, activation='relu', input_shape=(4096,)))\n",
    "m2.add(Dense(num_classes, activation='softmax'))\n",
    "\n",
    "m2.summary()\n"
   ]
  },
  {
   "cell_type": "code",
   "execution_count": 22,
   "metadata": {},
   "outputs": [],
   "source": [
    "m2.compile(loss=keras.losses.categorical_crossentropy,\n",
    "              optimizer=tf.keras.optimizers.Adadelta(),\n",
    "              metrics=['accuracy'])"
   ]
  },
  {
   "cell_type": "code",
   "execution_count": 23,
   "metadata": {},
   "outputs": [
    {
     "name": "stdout",
     "output_type": "stream",
     "text": [
      "Epoch 1/12\n",
      "211/211 [==============================] - 5s 22ms/step - loss: 2.2923 - accuracy: 0.1116 - val_loss: 2.2665 - val_accuracy: 0.1154\n",
      "Epoch 2/12\n",
      "211/211 [==============================] - 4s 21ms/step - loss: 2.2614 - accuracy: 0.1196 - val_loss: 2.2557 - val_accuracy: 0.1244\n",
      "Epoch 3/12\n",
      "211/211 [==============================] - 5s 22ms/step - loss: 2.2526 - accuracy: 0.1270 - val_loss: 2.2486 - val_accuracy: 0.1365\n",
      "Epoch 4/12\n",
      "211/211 [==============================] - 4s 21ms/step - loss: 2.2461 - accuracy: 0.1358 - val_loss: 2.2430 - val_accuracy: 0.1385\n",
      "Epoch 5/12\n",
      "211/211 [==============================] - 4s 21ms/step - loss: 2.2404 - accuracy: 0.1415 - val_loss: 2.2380 - val_accuracy: 0.1443\n",
      "Epoch 6/12\n",
      "211/211 [==============================] - 5s 22ms/step - loss: 2.2350 - accuracy: 0.1464 - val_loss: 2.2334 - val_accuracy: 0.1463\n",
      "Epoch 7/12\n",
      "211/211 [==============================] - 5s 25ms/step - loss: 2.2307 - accuracy: 0.1528 - val_loss: 2.2291 - val_accuracy: 0.1488\n",
      "Epoch 8/12\n",
      "211/211 [==============================] - 5s 22ms/step - loss: 2.2264 - accuracy: 0.1492 - val_loss: 2.2263 - val_accuracy: 0.1516\n",
      "Epoch 9/12\n",
      "211/211 [==============================] - 5s 23ms/step - loss: 2.2230 - accuracy: 0.1570 - val_loss: 2.2231 - val_accuracy: 0.1524\n",
      "Epoch 10/12\n",
      "211/211 [==============================] - 5s 22ms/step - loss: 2.2192 - accuracy: 0.1567 - val_loss: 2.2193 - val_accuracy: 0.1564\n",
      "Epoch 11/12\n",
      "211/211 [==============================] - 5s 23ms/step - loss: 2.2157 - accuracy: 0.1572 - val_loss: 2.2163 - val_accuracy: 0.1587\n",
      "Epoch 12/12\n",
      "211/211 [==============================] - 5s 23ms/step - loss: 2.2127 - accuracy: 0.1611 - val_loss: 2.2139 - val_accuracy: 0.1536\n"
     ]
    },
    {
     "data": {
      "text/plain": [
       "<keras.callbacks.History at 0x1a9a2d82c40>"
      ]
     },
     "execution_count": 23,
     "metadata": {},
     "output_type": "execute_result"
    }
   ],
   "source": [
    "m2.fit(X_train, y_train,\n",
    "          batch_size=batch_size,\n",
    "          epochs=epochs,\n",
    "          verbose=1,\n",
    "          validation_data=(X_test, y_test))"
   ]
  },
  {
   "cell_type": "markdown",
   "metadata": {},
   "source": [
    "#### Q3.1 Classification Accuracy using test set: "
   ]
  },
  {
   "cell_type": "code",
   "execution_count": 24,
   "metadata": {},
   "outputs": [
    {
     "name": "stdout",
     "output_type": "stream",
     "text": [
      "Test loss: 2.2138736248016357\n",
      "Test accuracy: 0.15355555713176727\n"
     ]
    }
   ],
   "source": [
    "score = m2.evaluate(X_test, y_test, verbose=0)\n",
    "print('Test loss:', score[0])\n",
    "print('Test accuracy:', score[1])"
   ]
  },
  {
   "cell_type": "markdown",
   "metadata": {},
   "source": [
    "### S4:\n",
    "\n",
    "- Implement a third deep learning model (M.3) adding two additional fully connected hidden layers (with arbitrary number of nodes) for a total of four, as well as drop-out layers to the previous model. \n",
    "\n",
    "Q4.1: Calculate classification accuracy on the test data.\n",
    "\n",
    "Q4.2: Compare against previous models. Which model was the \"best\"? Why?"
   ]
  },
  {
   "cell_type": "code",
   "execution_count": 25,
   "metadata": {},
   "outputs": [
    {
     "name": "stdout",
     "output_type": "stream",
     "text": [
      "Model: \"sequential_2\"\n",
      "_________________________________________________________________\n",
      " Layer (type)                Output Shape              Param #   \n",
      "=================================================================\n",
      " dense_3 (Dense)             (None, 950)               3892150   \n",
      "                                                                 \n",
      " dropout (Dropout)           (None, 950)               0         \n",
      "                                                                 \n",
      " dense_4 (Dense)             (None, 1000)              951000    \n",
      "                                                                 \n",
      " dropout_1 (Dropout)         (None, 1000)              0         \n",
      "                                                                 \n",
      " dense_5 (Dense)             (None, 1050)              1051050   \n",
      "                                                                 \n",
      " dropout_2 (Dropout)         (None, 1050)              0         \n",
      "                                                                 \n",
      " dense_6 (Dense)             (None, 10)                10510     \n",
      "                                                                 \n",
      "=================================================================\n",
      "Total params: 5,904,710\n",
      "Trainable params: 5,904,710\n",
      "Non-trainable params: 0\n",
      "_________________________________________________________________\n"
     ]
    }
   ],
   "source": [
    "m3 = Sequential()\n",
    "m3.add(Dense(950, activation='relu', input_shape=(4096,)))\n",
    "m3.add(Dropout(0.5))\n",
    "m3.add(Dense(1000, activation='relu'))\n",
    "m3.add(Dropout(0.5))\n",
    "m3.add(Dense(1050, activation='relu'))\n",
    "m3.add(Dropout(0.5))\n",
    "m3.add(Dense(num_classes, activation='softmax'))\n",
    "\n",
    "m3.summary()"
   ]
  },
  {
   "cell_type": "code",
   "execution_count": 26,
   "metadata": {},
   "outputs": [],
   "source": [
    "m3.compile(loss=keras.losses.categorical_crossentropy,\n",
    "              optimizer=tf.keras.optimizers.Adadelta(),\n",
    "              metrics=['accuracy'])"
   ]
  },
  {
   "cell_type": "code",
   "execution_count": 27,
   "metadata": {},
   "outputs": [
    {
     "name": "stdout",
     "output_type": "stream",
     "text": [
      "Epoch 1/12\n",
      "211/211 [==============================] - 8s 37ms/step - loss: 2.4358 - accuracy: 0.1028 - val_loss: 2.2767 - val_accuracy: 0.1165\n",
      "Epoch 2/12\n",
      "211/211 [==============================] - 7s 33ms/step - loss: 2.3818 - accuracy: 0.1058 - val_loss: 2.2733 - val_accuracy: 0.1395\n",
      "Epoch 3/12\n",
      "211/211 [==============================] - 7s 34ms/step - loss: 2.3512 - accuracy: 0.1130 - val_loss: 2.2728 - val_accuracy: 0.1344\n",
      "Epoch 4/12\n",
      "211/211 [==============================] - 8s 38ms/step - loss: 2.3416 - accuracy: 0.1073 - val_loss: 2.2715 - val_accuracy: 0.1304\n",
      "Epoch 5/12\n",
      "211/211 [==============================] - 7s 35ms/step - loss: 2.3279 - accuracy: 0.1064 - val_loss: 2.2700 - val_accuracy: 0.1301\n",
      "Epoch 6/12\n",
      "211/211 [==============================] - 7s 34ms/step - loss: 2.3133 - accuracy: 0.1119 - val_loss: 2.2683 - val_accuracy: 0.1316\n",
      "Epoch 7/12\n",
      "211/211 [==============================] - 7s 35ms/step - loss: 2.3128 - accuracy: 0.1054 - val_loss: 2.2666 - val_accuracy: 0.1322\n",
      "Epoch 8/12\n",
      "211/211 [==============================] - 7s 31ms/step - loss: 2.2963 - accuracy: 0.1136 - val_loss: 2.2647 - val_accuracy: 0.1353\n",
      "Epoch 9/12\n",
      "211/211 [==============================] - 7s 31ms/step - loss: 2.2926 - accuracy: 0.1156 - val_loss: 2.2631 - val_accuracy: 0.1382\n",
      "Epoch 10/12\n",
      "211/211 [==============================] - 7s 33ms/step - loss: 2.2879 - accuracy: 0.1120 - val_loss: 2.2618 - val_accuracy: 0.1420\n",
      "Epoch 11/12\n",
      "211/211 [==============================] - 7s 35ms/step - loss: 2.2815 - accuracy: 0.1141 - val_loss: 2.2606 - val_accuracy: 0.1439\n",
      "Epoch 12/12\n",
      "211/211 [==============================] - 7s 35ms/step - loss: 2.2811 - accuracy: 0.1118 - val_loss: 2.2584 - val_accuracy: 0.1481\n"
     ]
    },
    {
     "data": {
      "text/plain": [
       "<keras.callbacks.History at 0x1a9a2fa3b20>"
      ]
     },
     "execution_count": 27,
     "metadata": {},
     "output_type": "execute_result"
    }
   ],
   "source": [
    "m3.fit(X_train, y_train,\n",
    "          batch_size=batch_size,\n",
    "          epochs=epochs,\n",
    "          verbose=1,\n",
    "          validation_data=(X_test, y_test))"
   ]
  },
  {
   "cell_type": "markdown",
   "metadata": {},
   "source": [
    "#### Q4.1 Classification Accuracy using test set:"
   ]
  },
  {
   "cell_type": "code",
   "execution_count": 28,
   "metadata": {},
   "outputs": [
    {
     "name": "stdout",
     "output_type": "stream",
     "text": [
      "Test loss: 2.2584211826324463\n",
      "Test accuracy: 0.14807407557964325\n"
     ]
    }
   ],
   "source": [
    "score = m3.evaluate(X_test, y_test, verbose=0)\n",
    "print('Test loss:', score[0])\n",
    "print('Test accuracy:', score[1])"
   ]
  },
  {
   "cell_type": "markdown",
   "metadata": {},
   "source": [
    "#### Q4.2 Which model is \"best\"? \n",
    "\n",
    "Models 2 and 3 performed significantly better than model 1, with model 2 performing the \"best\" in terms of both accuracy and loss scores. In this notebook, these models become increasingly complex by adding a new dense layer each time. Each neuron in a dense layer uses the output from all of the neurons in the previous layer as its input. While this technique can fine tune a model to identify variations, having multiple dense connections may lead to overfitting. This is one potential reason why model 2 performs slightly better than model 3 with the test set data. If we wanted to improve model 3, we could add a dropout layer as a regularization technique so that it would generalize better to the test set data. "
   ]
  },
  {
   "cell_type": "markdown",
   "metadata": {},
   "source": [
    "### S5:\n",
    "\n",
    "- Take the original RGB images and do not vectorize them. Use these images as the data input for the following models (M.4 and M.5).\n",
    "- Implement a fourth CNN model (M.4) that includes the following layers: Conv2D, MaxPooling2D, Dropout, Flatten, Dense. \n",
    "\n",
    "Q5.1: Calculate classification accuracy on the test data.\n",
    "\n",
    "Q5.2: Compare against previous models. Which model was the \"best\"? Why?"
   ]
  },
  {
   "cell_type": "code",
   "execution_count": 118,
   "metadata": {},
   "outputs": [],
   "source": [
    "# reading the data in again to retain rgb\n",
    "import glob\n",
    "import os\n",
    "img_files = []\n",
    "for file in glob.glob(dataset + os.sep + \"*\" + os.sep + \"*.jpg\"):\n",
    "  img_files.append(file)"
   ]
  },
  {
   "cell_type": "code",
   "execution_count": 119,
   "metadata": {},
   "outputs": [],
   "source": [
    "# load RGB images\n",
    "imgs_rgb = []\n",
    "for imgName in img_files:\n",
    "  temp = io.imread(imgName)\n",
    "  imgs_rgb.append(temp) #append to the feature data set"
   ]
  },
  {
   "cell_type": "code",
   "execution_count": 120,
   "metadata": {},
   "outputs": [
    {
     "data": {
      "text/plain": [
       "(27000, 64, 64, 3)"
      ]
     },
     "execution_count": 120,
     "metadata": {},
     "output_type": "execute_result"
    }
   ],
   "source": [
    "np.asarray(imgs_rgb).shape"
   ]
  },
  {
   "cell_type": "code",
   "execution_count": 121,
   "metadata": {},
   "outputs": [],
   "source": [
    "images = np.stack(imgs_rgb)"
   ]
  },
  {
   "cell_type": "code",
   "execution_count": 122,
   "metadata": {},
   "outputs": [],
   "source": [
    "from sklearn.model_selection import train_test_split\n",
    "X_train, X_test, y_train, y_test = train_test_split(images,y,test_size=0.5, random_state=42, stratify=y)"
   ]
  },
  {
   "cell_type": "code",
   "execution_count": 123,
   "metadata": {},
   "outputs": [],
   "source": [
    "from sklearn.preprocessing import MinMaxScaler\n",
    "scalar = MinMaxScaler()\n",
    "scalar.fit(X_train.reshape(X_train.shape[0], -1))\n",
    "X_train = scalar.transform(X_train.reshape(X_train.shape[0], -1)).reshape(X_train.shape)\n",
    "X_test = scalar.transform(X_test.reshape(X_test.shape[0], -1)).reshape(X_test.shape)"
   ]
  },
  {
   "cell_type": "code",
   "execution_count": 124,
   "metadata": {},
   "outputs": [],
   "source": [
    "input_shape =(64,64,3)"
   ]
  },
  {
   "cell_type": "code",
   "execution_count": 36,
   "metadata": {},
   "outputs": [
    {
     "name": "stdout",
     "output_type": "stream",
     "text": [
      "Model: \"sequential_3\"\n",
      "_________________________________________________________________\n",
      " Layer (type)                Output Shape              Param #   \n",
      "=================================================================\n",
      " conv2d (Conv2D)             (None, 62, 62, 32)        896       \n",
      "                                                                 \n",
      " max_pooling2d (MaxPooling2D  (None, 31, 31, 32)       0         \n",
      " )                                                               \n",
      "                                                                 \n",
      " dropout_3 (Dropout)         (None, 31, 31, 32)        0         \n",
      "                                                                 \n",
      " flatten (Flatten)           (None, 30752)             0         \n",
      "                                                                 \n",
      " dense_7 (Dense)             (None, 10)                307530    \n",
      "                                                                 \n",
      "=================================================================\n",
      "Total params: 308,426\n",
      "Trainable params: 308,426\n",
      "Non-trainable params: 0\n",
      "_________________________________________________________________\n"
     ]
    }
   ],
   "source": [
    "m4 = Sequential()\n",
    "m4.add(Conv2D(32, kernel_size=(3, 3),\n",
    "                 activation='relu',\n",
    "                 input_shape=input_shape))\n",
    "m4.add(MaxPooling2D(pool_size=(2, 2)))\n",
    "m4.add(Dropout(0.25))\n",
    "m4.add(Flatten())\n",
    "m4.add(Dense(num_classes, activation='softmax'))\n",
    "\n",
    "m4.summary()"
   ]
  },
  {
   "cell_type": "code",
   "execution_count": 37,
   "metadata": {},
   "outputs": [],
   "source": [
    "m4.compile(loss=keras.losses.sparse_categorical_crossentropy,\n",
    "              optimizer=tf.keras.optimizers.Adadelta(),\n",
    "              metrics=['accuracy'])"
   ]
  },
  {
   "cell_type": "code",
   "execution_count": 38,
   "metadata": {},
   "outputs": [
    {
     "name": "stdout",
     "output_type": "stream",
     "text": [
      "Epoch 1/12\n",
      "211/211 [==============================] - 15s 72ms/step - loss: 2.2780 - accuracy: 0.0859 - val_loss: 2.2441 - val_accuracy: 0.0857\n",
      "Epoch 2/12\n",
      "211/211 [==============================] - 15s 72ms/step - loss: 2.2355 - accuracy: 0.1039 - val_loss: 2.2210 - val_accuracy: 0.1179\n",
      "Epoch 3/12\n",
      "211/211 [==============================] - 17s 79ms/step - loss: 2.2188 - accuracy: 0.1180 - val_loss: 2.2097 - val_accuracy: 0.1378\n",
      "Epoch 4/12\n",
      "211/211 [==============================] - 16s 74ms/step - loss: 2.2097 - accuracy: 0.1301 - val_loss: 2.2006 - val_accuracy: 0.1483\n",
      "Epoch 5/12\n",
      "211/211 [==============================] - 14s 68ms/step - loss: 2.2016 - accuracy: 0.1351 - val_loss: 2.1916 - val_accuracy: 0.1554\n",
      "Epoch 6/12\n",
      "211/211 [==============================] - 14s 67ms/step - loss: 2.1914 - accuracy: 0.1479 - val_loss: 2.1821 - val_accuracy: 0.1649\n",
      "Epoch 7/12\n",
      "211/211 [==============================] - 16s 74ms/step - loss: 2.1800 - accuracy: 0.1579 - val_loss: 2.1725 - val_accuracy: 0.1756\n",
      "Epoch 8/12\n",
      "211/211 [==============================] - 16s 77ms/step - loss: 2.1735 - accuracy: 0.1615 - val_loss: 2.1626 - val_accuracy: 0.1852\n",
      "Epoch 9/12\n",
      "211/211 [==============================] - 16s 74ms/step - loss: 2.1621 - accuracy: 0.1777 - val_loss: 2.1522 - val_accuracy: 0.2008\n",
      "Epoch 10/12\n",
      "211/211 [==============================] - 15s 71ms/step - loss: 2.1508 - accuracy: 0.1955 - val_loss: 2.1415 - val_accuracy: 0.2075\n",
      "Epoch 11/12\n",
      "211/211 [==============================] - 14s 66ms/step - loss: 2.1409 - accuracy: 0.2036 - val_loss: 2.1304 - val_accuracy: 0.2219\n",
      "Epoch 12/12\n",
      "211/211 [==============================] - 15s 70ms/step - loss: 2.1286 - accuracy: 0.2172 - val_loss: 2.1189 - val_accuracy: 0.2358\n"
     ]
    },
    {
     "data": {
      "text/plain": [
       "<keras.callbacks.History at 0x1a9a3968eb0>"
      ]
     },
     "execution_count": 38,
     "metadata": {},
     "output_type": "execute_result"
    }
   ],
   "source": [
    "m4.fit(X_train, y_train,\n",
    "          batch_size=batch_size,\n",
    "          epochs=epochs,\n",
    "          verbose=1,\n",
    "          validation_data=(X_test, y_test))"
   ]
  },
  {
   "cell_type": "markdown",
   "metadata": {},
   "source": [
    "#### Q5.1 Classification Accuracy using test set:"
   ]
  },
  {
   "cell_type": "code",
   "execution_count": 39,
   "metadata": {},
   "outputs": [
    {
     "name": "stdout",
     "output_type": "stream",
     "text": [
      "Test loss: 2.1189088821411133\n",
      "Test accuracy: 0.23577778041362762\n"
     ]
    }
   ],
   "source": [
    "score = m4.evaluate(X_test, y_test, verbose=0)\n",
    "print('Test loss:', score[0])\n",
    "print('Test accuracy:', score[1])"
   ]
  },
  {
   "cell_type": "markdown",
   "metadata": {},
   "source": [
    "#### Q5.2 Which model is \"best\"? "
   ]
  },
  {
   "cell_type": "markdown",
   "metadata": {},
   "source": [
    "Model 4 performs the \"best\" in terms of accuracy and loss scores. By not vectorizing the data, we are able to apply the model directly to the images allowing us to add layers like 2D convolution and 2D max pooling. Both of these layers downsample each image in the dataset while calculating weights using filters to learn which features to extract in the input images. This adds more granularity to the model which helps minimize loss and increases accuracy. "
   ]
  },
  {
   "cell_type": "markdown",
   "metadata": {},
   "source": [
    "### S6:\n",
    "\n",
    "- Using RGB images from S5, implement a fifth deep learning model (M.5) targeting accuracy that will outperform all previous models. You are free to use any tools and techniques, as well as pre-trained models for transfer learning. \n",
    "\n",
    "Q6.1: Describe the model you built, and why you chose it.\n",
    "\n",
    "Q6.2: Calculate classification accuracy on the test data.\n",
    "\n",
    "Q6.3: Compare against previous models. Which model was the \"best\"? Why?\n",
    "\n",
    "Q6.4: What are the two classes with the highest labeling error? Explain using data and showing mis-classified examples."
   ]
  },
  {
   "cell_type": "code",
   "execution_count": 40,
   "metadata": {},
   "outputs": [],
   "source": [
    "from tensorflow.keras.layers import BatchNormalization"
   ]
  },
  {
   "cell_type": "code",
   "execution_count": 125,
   "metadata": {},
   "outputs": [
    {
     "name": "stdout",
     "output_type": "stream",
     "text": [
      "Model: \"sequential_6\"\n",
      "_________________________________________________________________\n",
      " Layer (type)                Output Shape              Param #   \n",
      "=================================================================\n",
      " conv2d_5 (Conv2D)           (None, 62, 62, 32)        896       \n",
      "                                                                 \n",
      " batch_normalization_4 (Batc  (None, 62, 62, 32)       128       \n",
      " hNormalization)                                                 \n",
      "                                                                 \n",
      " activation_4 (Activation)   (None, 62, 62, 32)        0         \n",
      "                                                                 \n",
      " max_pooling2d_5 (MaxPooling  (None, 31, 31, 32)       0         \n",
      " 2D)                                                             \n",
      "                                                                 \n",
      " conv2d_6 (Conv2D)           (None, 29, 29, 64)        18496     \n",
      "                                                                 \n",
      " batch_normalization_5 (Batc  (None, 29, 29, 64)       256       \n",
      " hNormalization)                                                 \n",
      "                                                                 \n",
      " activation_5 (Activation)   (None, 29, 29, 64)        0         \n",
      "                                                                 \n",
      " max_pooling2d_6 (MaxPooling  (None, 14, 14, 64)       0         \n",
      " 2D)                                                             \n",
      "                                                                 \n",
      " dropout_6 (Dropout)         (None, 14, 14, 64)        0         \n",
      "                                                                 \n",
      " flatten_3 (Flatten)         (None, 12544)             0         \n",
      "                                                                 \n",
      " dense_10 (Dense)            (None, 10)                125450    \n",
      "                                                                 \n",
      "=================================================================\n",
      "Total params: 145,226\n",
      "Trainable params: 145,034\n",
      "Non-trainable params: 192\n",
      "_________________________________________________________________\n"
     ]
    }
   ],
   "source": [
    "m5 = Sequential()\n",
    "m5.add(Conv2D(32, kernel_size=(3, 3),strides=(1,1),input_shape=input_shape))\n",
    "m5.add(BatchNormalization())\n",
    "m5.add(Activation('relu'))\n",
    "m5.add(MaxPooling2D((2,2)))\n",
    "\n",
    "m5.add(Conv2D(64, (3,3), strides=(1,1)))\n",
    "m5.add(BatchNormalization())\n",
    "m5.add(Activation('relu'))\n",
    "m5.add(MaxPooling2D(pool_size=(2, 2)))\n",
    "\n",
    "m5.add(Dropout(0.25))\n",
    "m5.add(Flatten())\n",
    "\n",
    "m5.add(Dense(num_classes, activation='softmax'))\n",
    "\n",
    "m5.summary()"
   ]
  },
  {
   "cell_type": "code",
   "execution_count": 126,
   "metadata": {},
   "outputs": [],
   "source": [
    "m5.compile(loss=keras.losses.sparse_categorical_crossentropy,\n",
    "              optimizer=tf.keras.optimizers.Adam(),\n",
    "              metrics=['accuracy'])"
   ]
  },
  {
   "cell_type": "code",
   "execution_count": 127,
   "metadata": {},
   "outputs": [
    {
     "name": "stdout",
     "output_type": "stream",
     "text": [
      "Epoch 1/12\n",
      "211/211 [==============================] - 43s 203ms/step - loss: 1.4601 - accuracy: 0.5800 - val_loss: 5.5114 - val_accuracy: 0.1226\n",
      "Epoch 2/12\n",
      "211/211 [==============================] - 44s 209ms/step - loss: 0.9355 - accuracy: 0.7040 - val_loss: 6.3228 - val_accuracy: 0.1906\n",
      "Epoch 3/12\n",
      "211/211 [==============================] - 41s 193ms/step - loss: 0.7630 - accuracy: 0.7567 - val_loss: 0.8992 - val_accuracy: 0.6949\n",
      "Epoch 4/12\n",
      "211/211 [==============================] - 40s 189ms/step - loss: 0.6364 - accuracy: 0.7920 - val_loss: 1.6136 - val_accuracy: 0.6054\n",
      "Epoch 5/12\n",
      "211/211 [==============================] - 41s 195ms/step - loss: 0.5722 - accuracy: 0.8130 - val_loss: 0.9976 - val_accuracy: 0.7365\n",
      "Epoch 6/12\n",
      "211/211 [==============================] - 41s 194ms/step - loss: 0.5402 - accuracy: 0.8204 - val_loss: 1.0917 - val_accuracy: 0.7132\n",
      "Epoch 7/12\n",
      "211/211 [==============================] - 40s 190ms/step - loss: 0.4335 - accuracy: 0.8513 - val_loss: 0.7035 - val_accuracy: 0.7997\n",
      "Epoch 8/12\n",
      "211/211 [==============================] - 40s 188ms/step - loss: 0.4328 - accuracy: 0.8537 - val_loss: 1.1315 - val_accuracy: 0.6763\n",
      "Epoch 9/12\n",
      "211/211 [==============================] - 40s 191ms/step - loss: 0.3595 - accuracy: 0.8768 - val_loss: 1.0359 - val_accuracy: 0.7142\n",
      "Epoch 10/12\n",
      "211/211 [==============================] - 41s 195ms/step - loss: 0.3696 - accuracy: 0.8718 - val_loss: 1.3241 - val_accuracy: 0.6552\n",
      "Epoch 11/12\n",
      "211/211 [==============================] - 41s 193ms/step - loss: 0.3154 - accuracy: 0.8916 - val_loss: 0.6264 - val_accuracy: 0.8204\n",
      "Epoch 12/12\n",
      "211/211 [==============================] - 40s 187ms/step - loss: 0.2704 - accuracy: 0.9060 - val_loss: 0.9619 - val_accuracy: 0.7617\n"
     ]
    },
    {
     "data": {
      "text/plain": [
       "<keras.callbacks.History at 0x1aa24546c10>"
      ]
     },
     "execution_count": 127,
     "metadata": {},
     "output_type": "execute_result"
    }
   ],
   "source": [
    "m5.fit(X_train, y_train,\n",
    "          batch_size=batch_size,\n",
    "          epochs=epochs,\n",
    "          verbose=1,\n",
    "          validation_data=(X_test, y_test))"
   ]
  },
  {
   "cell_type": "markdown",
   "metadata": {},
   "source": [
    "#### Q6.1 Why I chose this model:\n",
    "\n",
    "The model I built is a densely connected neural network consisting of two 2D convolution modules. Module 1 uses 64 output filters with a kernel size of (3,3) and the relu activation function. Module 2 uses 32 output filters with a kernel size of (3,3) and the same activation function. Both modules contain 2D max pooling layers that take the max value over an input window of (2,2). I chose this model based on the accuracy and loss scores of model 4 that utilized both a 2D convolution and 2D max pooling layer. This technique seemed to perform well and I wanted to extract more features to identify variations by applying the second module. I originally used 64 output filters in both module 1 and module 2, but that yielded unsatisfactory results with the test set as the model was overfit to the training set. \n",
    "\n",
    "To stabilize the learning process, I also used BatchNormalization() that accelerates training and provides some regularization. This function applies a transformation that maintains the mean output close to 0 and the output standard deviation close to 1. \n",
    "\n",
    "I experimented with adding a second dense layer with a dropout layer, but this did not help the model improve either.\n",
    "\n",
    "Lastly, I used an Adam optimizer which is known to be better in terms of generalizeability - per my research. \n",
    "\n",
    "My goal for this section was to hypertune the model such that many significant features were extracted while optimzing the model for generalization as previous models did not seem to perform well in this way. The results of this model are printed below. "
   ]
  },
  {
   "cell_type": "markdown",
   "metadata": {},
   "source": [
    "#### Q6.2 Classification Accuracy using test set:"
   ]
  },
  {
   "cell_type": "code",
   "execution_count": 128,
   "metadata": {},
   "outputs": [
    {
     "name": "stdout",
     "output_type": "stream",
     "text": [
      "Test loss: 0.9619234800338745\n",
      "Test accuracy: 0.7617037296295166\n"
     ]
    }
   ],
   "source": [
    "score = m5.evaluate(X_test, y_test, verbose=0)\n",
    "print('Test loss:', score[0])\n",
    "print('Test accuracy:', score[1])"
   ]
  },
  {
   "cell_type": "markdown",
   "metadata": {},
   "source": [
    "#### Q6.3 Which model is best?\n",
    "\n",
    "Model 5 performs significantly better than previous models in both loss and accuracy scores. This is because the model is able to extract more significant features using two convolution modules allowing deeper learning. Additionally, the Adam optimizer, and batch normalization steps allow for the model to have improved generalizeability to new data."
   ]
  },
  {
   "cell_type": "markdown",
   "metadata": {},
   "source": [
    "#### Q6.4 Two Classes with highest labeling error (with examples):"
   ]
  },
  {
   "cell_type": "code",
   "execution_count": 131,
   "metadata": {},
   "outputs": [],
   "source": [
    "#create preds var\n",
    "m5_results = m5.predict(X_test)\n",
    "y_preds = np.argmax(m5_results, axis=1)"
   ]
  },
  {
   "cell_type": "code",
   "execution_count": 132,
   "metadata": {},
   "outputs": [],
   "source": [
    "#create confusion matrix\n",
    "from sklearn.metrics import confusion_matrix\n",
    "cm = confusion_matrix(y_test, y_preds)"
   ]
  },
  {
   "cell_type": "code",
   "execution_count": 157,
   "metadata": {},
   "outputs": [
    {
     "data": {
      "image/png": "[encoded data removed]",
      "text/plain": [
       "<Figure size 864x864 with 2 Axes>"
      ]
     },
     "metadata": {
      "needs_background": "light"
     },
     "output_type": "display_data"
    }
   ],
   "source": [
    "#plot confusion matrix\n",
    "%matplotlib inline\n",
    "plt.rcParams['axes.grid'] = False\n",
    "cm = cm.astype('float') / cm.sum(axis=1)[:, np.newaxis]\n",
    "fig, ax = plt.subplots(figsize=(12,12))\n",
    "im = ax.imshow(cm, interpolation = 'nearest', cmap=plt.cm.Greens)\n",
    "ax.figure.colorbar(im, ax=ax)\n",
    "\n",
    "#show all ticks\n",
    "ax.set(xticks = np.arange(cm.shape[1]),\n",
    "       yticks = np.arange(cm.shape[0]),\n",
    "       xticklabels = labelNames, yticklabels = labelNames,\n",
    "       title = 'Model 5 Confusion Matrix, RGB Channels',\n",
    "       ylabel = 'Actual label',\n",
    "       xlabel = 'Predicted label')\n",
    "\n",
    "#set alignment\n",
    "plt.setp(ax.get_xticklabels(), rotation=45, ha=\"right\",\n",
    "        rotation_mode=\"anchor\")\n",
    "\n",
    "#loop over dimensions and create annotations\n",
    "fmt = '.2f'\n",
    "thresh = cm.max()/2\n",
    "for i in range(cm.shape[0]): \n",
    "    for h in range(cm.shape[1]):\n",
    "        ax.text( h, i, format(cm[i, h], fmt),\n",
    "        ha = \"center\", va=\"center\",\n",
    "        color = \"white\" if cm[i, h] > thresh else \"black\");"
   ]
  },
  {
   "cell_type": "markdown",
   "metadata": {},
   "source": [
    "Q6.4 Two classes with highest labeling error: \"AnnualCrop\" and \"PermanentCrop\""
   ]
  },
  {
   "cell_type": "code",
   "execution_count": 140,
   "metadata": {},
   "outputs": [
    {
     "data": {
      "image/png": "[encoded data removed]",
      "text/plain": [
       "<Figure size 432x432 with 1 Axes>"
      ]
     },
     "metadata": {
      "needs_background": "light"
     },
     "output_type": "display_data"
    }
   ],
   "source": [
    "# example of \"AnnualCrop\" misclassified as \"Residential\"\n",
    "plt.figure(figsize=(6,6))\n",
    "misclass1 = np.where((y_test==0) & (y_preds == 7))[0][0]\n",
    "misclass1_img = io.imread(img_files[misclass1])\n",
    "plt.imshow(misclass1_img)\n",
    "plt.title(\"AnnualCrop misclassified as Residential\");"
   ]
  },
  {
   "cell_type": "code",
   "execution_count": 141,
   "metadata": {},
   "outputs": [
    {
     "data": {
      "image/png": "[encoded data removed]",
      "text/plain": [
       "<Figure size 432x432 with 1 Axes>"
      ]
     },
     "metadata": {
      "needs_background": "light"
     },
     "output_type": "display_data"
    }
   ],
   "source": [
    "# example of \"PermanentCrop\" misclassified as \"HerbaceousVegetation\"\n",
    "plt.figure(figsize=(6,6))\n",
    "misclass1 = np.where((y_test==6) & (y_preds == 2))[0][7]\n",
    "misclass1_img = io.imread(img_files[misclass1])\n",
    "plt.imshow(misclass1_img)\n",
    "plt.title(\"PermanentCrop misclassified as HerbaceousVegetation\");"
   ]
  },
  {
   "cell_type": "markdown",
   "metadata": {},
   "source": [
    "### S7:\n",
    "\n",
    "- Apply your best model on multispectral images. You may use whichever image channels you wish, so long as you use more than just RGB (although you are not required to use any color channels).\n",
    "\n",
    "Q7.1: Calculate classification accuracy on the test data.\n",
    "\n",
    "Q7.2: Compare against results using RGB images."
   ]
  },
  {
   "cell_type": "code",
   "execution_count": 142,
   "metadata": {},
   "outputs": [],
   "source": [
    "from tifffile import tifffile"
   ]
  },
  {
   "cell_type": "code",
   "execution_count": 143,
   "metadata": {},
   "outputs": [],
   "source": [
    "MSdataset = \"C:/Users/kchan/Desktop/Spring2022/RemoteSensing/HW/HW4/EuroSATallBands/ds/images/remote_sensing/otherDatasets/sentinel_2/tif\""
   ]
  },
  {
   "cell_type": "code",
   "execution_count": 144,
   "metadata": {},
   "outputs": [],
   "source": [
    "#generate array of filepaths for MS images\n",
    "MSimg_files = []\n",
    "for file in glob.glob(MSdataset + os.sep + \"*\" + os.sep + \"*.tif\"):\n",
    "  MSimg_files.append(file)"
   ]
  },
  {
   "cell_type": "code",
   "execution_count": 145,
   "metadata": {},
   "outputs": [],
   "source": [
    "#load MS images\n",
    "imgs_ms = []\n",
    "for MSimgName in MSimg_files:\n",
    "  tempMS = tifffile.imread(MSimgName)\n",
    "  imgs_ms.append(tempMS) #append to the feature data set"
   ]
  },
  {
   "cell_type": "code",
   "execution_count": 146,
   "metadata": {},
   "outputs": [
    {
     "data": {
      "text/plain": [
       "(27000, 64, 64, 13)"
      ]
     },
     "execution_count": 146,
     "metadata": {},
     "output_type": "execute_result"
    }
   ],
   "source": [
    "np.asarray(imgs_ms).shape"
   ]
  },
  {
   "cell_type": "code",
   "execution_count": 147,
   "metadata": {},
   "outputs": [],
   "source": [
    "MSimages = np.stack(imgs_ms)"
   ]
  },
  {
   "cell_type": "code",
   "execution_count": 148,
   "metadata": {},
   "outputs": [
    {
     "data": {
      "text/plain": [
       "(27000, 64, 64, 3)"
      ]
     },
     "execution_count": 148,
     "metadata": {},
     "output_type": "execute_result"
    }
   ],
   "source": [
    "#slice dataset for desired color channels - Using the agriculture band combination (bands 11, 8 and 2) \n",
    "#source: https://gisgeography.com/sentinel-2-bands-combinations/\n",
    "#used to monitor health of crops because it uses SWIR (B11) and NIR (B8) -- good at highlighting dense vegetation in dark green\n",
    "Ag_imgChannels = MSimages[:,:,:,[1,7,11]] ## Take all in first three dimensions, and select only three on the forth dimension (of channels)\n",
    "Ag_imgChannels.shape"
   ]
  },
  {
   "cell_type": "code",
   "execution_count": 149,
   "metadata": {},
   "outputs": [],
   "source": [
    "## applying best model\n",
    "agX_train, agX_test, agy_train, agy_test = train_test_split(Ag_imgChannels,y,test_size=0.5, random_state=42, stratify=y)"
   ]
  },
  {
   "cell_type": "code",
   "execution_count": 150,
   "metadata": {},
   "outputs": [],
   "source": [
    "scalar = MinMaxScaler()\n",
    "scalar.fit(agX_train.reshape(agX_train.shape[0], -1))\n",
    "agX_train = scalar.transform(agX_train.reshape(agX_train.shape[0], -1)).reshape(agX_train.shape)\n",
    "agX_test = scalar.transform(agX_test.reshape(agX_test.shape[0], -1)).reshape(agX_test.shape)"
   ]
  },
  {
   "cell_type": "code",
   "execution_count": 151,
   "metadata": {},
   "outputs": [
    {
     "name": "stdout",
     "output_type": "stream",
     "text": [
      "Epoch 1/12\n",
      "211/211 [==============================] - 42s 199ms/step - loss: 1.1750 - accuracy: 0.6986 - val_loss: 0.7343 - val_accuracy: 0.7534\n",
      "Epoch 2/12\n",
      "211/211 [==============================] - 45s 214ms/step - loss: 0.6019 - accuracy: 0.7954 - val_loss: 0.6709 - val_accuracy: 0.7674\n",
      "Epoch 3/12\n",
      "211/211 [==============================] - 42s 201ms/step - loss: 0.4832 - accuracy: 0.8350 - val_loss: 0.8734 - val_accuracy: 0.7076\n",
      "Epoch 4/12\n",
      "211/211 [==============================] - 41s 196ms/step - loss: 0.4338 - accuracy: 0.8510 - val_loss: 0.5225 - val_accuracy: 0.8188\n",
      "Epoch 5/12\n",
      "211/211 [==============================] - 43s 202ms/step - loss: 0.3971 - accuracy: 0.8656 - val_loss: 0.6321 - val_accuracy: 0.8052\n",
      "Epoch 6/12\n",
      "211/211 [==============================] - 42s 201ms/step - loss: 0.3321 - accuracy: 0.8819 - val_loss: 0.6927 - val_accuracy: 0.7696\n",
      "Epoch 7/12\n",
      "211/211 [==============================] - 40s 191ms/step - loss: 0.3181 - accuracy: 0.8868 - val_loss: 0.5244 - val_accuracy: 0.8246\n",
      "Epoch 8/12\n",
      "211/211 [==============================] - 40s 190ms/step - loss: 0.2986 - accuracy: 0.8959 - val_loss: 0.7616 - val_accuracy: 0.7825\n",
      "Epoch 9/12\n",
      "211/211 [==============================] - 44s 207ms/step - loss: 0.2728 - accuracy: 0.9041 - val_loss: 4.1992 - val_accuracy: 0.4878\n",
      "Epoch 10/12\n",
      "211/211 [==============================] - 46s 217ms/step - loss: 0.2615 - accuracy: 0.9083 - val_loss: 0.7574 - val_accuracy: 0.7730\n",
      "Epoch 11/12\n",
      "211/211 [==============================] - 43s 203ms/step - loss: 0.2455 - accuracy: 0.9096 - val_loss: 0.8657 - val_accuracy: 0.7518\n",
      "Epoch 12/12\n",
      "211/211 [==============================] - 41s 192ms/step - loss: 0.2129 - accuracy: 0.9281 - val_loss: 0.6514 - val_accuracy: 0.7854\n"
     ]
    },
    {
     "data": {
      "text/plain": [
       "<keras.callbacks.History at 0x1a99a3a5c10>"
      ]
     },
     "execution_count": 151,
     "metadata": {},
     "output_type": "execute_result"
    }
   ],
   "source": [
    "m5.fit(agX_train, agy_train,\n",
    "          batch_size=batch_size,\n",
    "          epochs=epochs,\n",
    "          verbose=1,\n",
    "          validation_data=(agX_test, agy_test))"
   ]
  },
  {
   "cell_type": "markdown",
   "metadata": {},
   "source": [
    "#### Q7.1 Classification Accuracy using test set:"
   ]
  },
  {
   "cell_type": "code",
   "execution_count": 152,
   "metadata": {},
   "outputs": [
    {
     "name": "stdout",
     "output_type": "stream",
     "text": [
      "Test loss: 0.6514322757720947\n",
      "Test accuracy: 0.7854074239730835\n"
     ]
    }
   ],
   "source": [
    "score = m5.evaluate(agX_test, agy_test, verbose=0)\n",
    "print('Test loss:', score[0])\n",
    "print('Test accuracy:', score[1])"
   ]
  },
  {
   "cell_type": "markdown",
   "metadata": {},
   "source": [
    "#### Q7.2 Compare Ag band combination results to RGB results"
   ]
  },
  {
   "cell_type": "code",
   "execution_count": 153,
   "metadata": {},
   "outputs": [],
   "source": [
    "#create preds var\n",
    "m5_Ag_results = m5.predict(agX_test)\n",
    "agy_preds = np.argmax(m5_Ag_results, axis=1)"
   ]
  },
  {
   "cell_type": "code",
   "execution_count": 154,
   "metadata": {},
   "outputs": [],
   "source": [
    "cm_Ag = confusion_matrix(agy_test, agy_preds)"
   ]
  },
  {
   "cell_type": "code",
   "execution_count": 158,
   "metadata": {},
   "outputs": [
    {
     "data": {
      "image/png": "[encoded data removed]",
      "text/plain": [
       "<Figure size 864x864 with 2 Axes>"
      ]
     },
     "metadata": {
      "needs_background": "light"
     },
     "output_type": "display_data"
    }
   ],
   "source": [
    "#plot confusion matrix\n",
    "%matplotlib inline\n",
    "plt.rcParams['axes.grid'] = False\n",
    "cm_Ag = cm_Ag.astype('float') / cm_Ag.sum(axis=1)[:, np.newaxis]\n",
    "fig, ax = plt.subplots(figsize=(12,12))\n",
    "im = ax.imshow(cm_Ag, interpolation = 'nearest', cmap=plt.cm.Greens)\n",
    "ax.figure.colorbar(im, ax=ax)\n",
    "\n",
    "#show all ticks\n",
    "ax.set(xticks = np.arange(cm_Ag.shape[1]),\n",
    "       yticks = np.arange(cm_Ag.shape[0]),\n",
    "       xticklabels = labelNames, yticklabels = labelNames,\n",
    "       title = 'Model 5 Confusion Matrix, Agriculture Band Combination',\n",
    "       ylabel = 'Actual label',\n",
    "       xlabel = 'Predicted label')\n",
    "\n",
    "#set alignment\n",
    "plt.setp(ax.get_xticklabels(), rotation=45, ha=\"right\",\n",
    "        rotation_mode=\"anchor\")\n",
    "\n",
    "#loop over dimensions and create annotations\n",
    "fmt = '.2f'\n",
    "thresh = cm_Ag.max()/2\n",
    "for i in range(cm_Ag.shape[0]): \n",
    "    for h in range(cm_Ag.shape[1]):\n",
    "        ax.text( h, i, format(cm_Ag[i, h], fmt),\n",
    "        ha = \"center\", va=\"center\",\n",
    "        color = \"white\" if cm_Ag[i, h] > thresh else \"black\");"
   ]
  },
  {
   "cell_type": "markdown",
   "metadata": {},
   "source": [
    "For this section, I used the Agriculture band combination of the multispectral image dataset (source: https://gisgeography.com/sentinel-2-bands-combinations/). This band combination consists of bands B11 (SWIR), B8 (NIR), and B2(Blue) and is mostly used to monitor the health of crops as well as highlight dense vegetation. I figured this would be a good combination to use since my model was not able to perform well for annual and permanent crops using the RGB channels. Chlorophyll in the structure of leaves is able to absorb a large majority of light in both the blue and red spectrums. Thus, a healthy leaf is highly reflectant in NIR bands. Additionally water in leaves leads to high reflectance in the SWIR bands. \n",
    "\n",
    "My goal was to use these color channels to help identify variances that would be more apparent among the different vegetation classes in this dataset (AnnualCrop, Forest, HerbaceousVegetation, Pasture, PermanentCrop). The B11 SWIR channel also would help predictions for the water classes (River and SeaLake). \n",
    "\n",
    "Using these channels lead to a slight improvement with model 5 in accuracy score and a significant improvement with loss scores when compared to model 5 results for RGB images. Additionally, there is a significantly large improvement in predictions for AnnualCrop as shown by the confusion matrix above. The predictions for PermanentCrop improved as well. \n",
    "\n",
    "However, using the agriculture band combination allowed for slight decreases in accuracy for a few of the other classes (i.e. Forest, Pasture, Residential). It is important to consider how these predicted classifications may be applied in order to determine which color channels to use with this model. For the goal of improving predictions of AnnualCrop and PermanentCrop, these color channels yield better results than the RGB color channels."
   ]
  }
 ],
 "metadata": {
  "kernelspec": {
   "display_name": "Python 3",
   "language": "python",
   "name": "python3"
  },
  "language_info": {
   "codemirror_mode": {
    "name": "ipython",
    "version": 3
   },
   "file_extension": ".py",
   "mimetype": "text/x-python",
   "name": "python",
   "nbconvert_exporter": "python",
   "pygments_lexer": "ipython3",
   "version": "3.9.9"
  }
 },
 "nbformat": 4,
 "nbformat_minor": 2
}
